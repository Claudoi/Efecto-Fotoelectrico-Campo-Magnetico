{
  "cells": [
    {
      "cell_type": "code",
      "source": [
        "var longitudes_de_onda_medidas = [150, 175, 220,240,250,300,340,350].map(x => x*1e-9);  // conversión de la longitud de onda a metros\n",
        "var voltajes_medidos = [-5.3,-4.15,-2.7,-2.22,-2.01,-1.15,-0.64,-0.33];  // en voltios (voltaje de frenado)para el sodio"
      ],
      "outputs": [],
      "execution_count": 1,
      "metadata": {
        "execution": {
          "iopub.execute_input": "2024-12-03T21:22:29.355Z",
          "iopub.status.busy": "2024-12-03T21:22:29.343Z",
          "iopub.status.idle": "2024-12-03T21:22:29.367Z",
          "shell.execute_reply": "2024-12-03T21:22:29.222Z"
        },
        "nteract": {
          "transient": {
            "deleting": false
          }
        }
      }
    },
    {
      "cell_type": "code",
      "source": [
        "inversa_de_longitudes_de_onda = longitudes_de_onda_medidas.map(lambda => 1/lambda );  \n",
        "var datos_a_ajustar = voltajes_medidos.reduce((tuplas_longitud_onda_voltaje, b, i) => {tuplas_longitud_onda_voltaje.push([inversa_de_longitudes_de_onda[i], b]);\n",
        "return tuplas_longitud_onda_voltaje;}, []);\n",
        "console.log(datos_a_ajustar); // Verás que son tuplas de valores 1/lambda y voltajes"
      ],
      "outputs": [
        {
          "output_type": "stream",
          "name": "stdout",
          "text": [
            "[\n",
            "  [ 6666666.666666666, -5.3 ],\n",
            "  [ 5714285.714285714, -4.15 ],\n",
            "  [ 4545454.545454545, -2.7 ],\n",
            "  [ 4166666.666666666, -2.22 ],\n",
            "  [ 3999999.9999999995, -2.01 ],\n",
            "  [ 3333333.333333333, -1.15 ],\n",
            "  [ 2941176.470588235, -0.64 ],\n",
            "  [ 2857142.857142857, -0.33 ]\n",
            "]\n"
          ]
        }
      ],
      "execution_count": 2,
      "metadata": {
        "execution": {
          "iopub.execute_input": "2024-12-03T21:22:29.389Z",
          "iopub.status.busy": "2024-12-03T21:22:29.380Z",
          "iopub.status.idle": "2024-12-03T21:22:29.414Z",
          "shell.execute_reply": "2024-12-03T21:22:29.240Z"
        },
        "nteract": {
          "transient": {
            "deleting": false
          }
        }
      }
    },
    {
      "cell_type": "code",
      "source": [
        "var regression = require('./regression.js');\n",
        "var result = regression.linear(datos_a_ajustar, { precision: 15 });\n",
        "var m = result.equation[0];  // pendiente\n",
        "var b = result.equation[1];  // ordenada en origen\n",
        "console.log('la pendiente es = ' + m + ' y la ordenada es = ' + b);"
      ],
      "outputs": [
        {
          "output_type": "stream",
          "name": "stdout",
          "text": [
            "la pendiente es = -0.000001276843218 y la ordenada es = 3.149951200687835\n"
          ]
        }
      ],
      "execution_count": 3,
      "metadata": {
        "execution": {
          "iopub.execute_input": "2024-12-03T21:22:29.441Z",
          "iopub.status.busy": "2024-12-03T21:22:29.433Z",
          "iopub.status.idle": "2024-12-03T21:22:29.455Z",
          "shell.execute_reply": "2024-12-03T21:22:29.258Z"
        },
        "nteract": {
          "transient": {
            "deleting": false
          }
        }
      }
    },
    {
      "cell_type": "code",
      "source": [
        "if (typeof m === \"undefined\"){console.error(\"La variable m no está definida\");\n",
        "}else{\n",
        "    const e = -1.602176634e-19; //carga del electrón (Coulombios)\n",
        "    const c = 299792458; //velocidad de la luz en m/s\n",
        "    const pi = Math.PI;\n",
        "    const h_bar_simbolo =\"\\u210F\";\n",
        "    const h_bar=(m * e)/(2 * pi * c);\n",
        "    const phi_simbolo =\"\\u03C6\"\n",
        "    const phi=-b * e;\n",
        "  \n",
        "    console.log(`El valor cálculado de la constante de Planck reducida es: ${h_bar_simbolo} = ${h_bar.toExponential(5)}  J·s`);\n",
        "    console.log(`El valor cálculado de la función de trabajo es: ${phi_simbolo} = ${phi.toExponential(5)} `);\n",
        "}"
      ],
      "outputs": [
        {
          "output_type": "stream",
          "name": "stdout",
          "text": [
            "El valor cálculado de la constante de Planck reducida es: ℏ = 1.08604e-34  J·s\n",
            "El valor cálculado de la función de trabajo es: φ = 5.04678e-19 \n"
          ]
        }
      ],
      "execution_count": 4,
      "metadata": {
        "execution": {
          "iopub.execute_input": "2024-12-03T21:22:29.474Z",
          "iopub.status.busy": "2024-12-03T21:22:29.466Z",
          "iopub.status.idle": "2024-12-03T21:22:29.497Z",
          "shell.execute_reply": "2024-12-03T21:22:29.269Z"
        },
        "nteract": {
          "transient": {
            "deleting": false
          }
        }
      }
    },
    {
      "cell_type": "code",
      "source": [
        "function Plotly(data, layout, $$) {$$ = $$ || global.$$;$$.mime({ \"application/vnd.plotly.v1+json\": { data: data, layout: layout } });}"
      ],
      "outputs": [],
      "execution_count": 5,
      "metadata": {
        "execution": {
          "iopub.execute_input": "2024-12-03T21:22:29.519Z",
          "iopub.status.busy": "2024-12-03T21:22:29.512Z",
          "iopub.status.idle": "2024-12-03T21:22:29.527Z",
          "shell.execute_reply": "2024-12-03T21:22:29.281Z"
        },
        "nteract": {
          "transient": {
            "deleting": false
          }
        }
      }
    },
    {
      "cell_type": "code",
      "source": [
        "voltajes_de_frenado_calculados = inversa_de_longitudes_de_onda.map(inversa_lambda => inversa_lambda * m + b);"
      ],
      "outputs": [
        {
          "output_type": "execute_result",
          "execution_count": 6,
          "data": {
            "text/plain": "[\n  -5.362336919312164,\n  -4.1462957593121645,\n  -2.653881608403074,\n  -2.1702288743121647,\n  -1.957421671312165,\n  -1.1061928593121646,\n  -0.6054700287239299,\n  -0.4981722793121648\n]"
          },
          "metadata": {}
        }
      ],
      "execution_count": 6,
      "metadata": {
        "execution": {
          "iopub.execute_input": "2024-12-03T21:22:29.542Z",
          "iopub.status.busy": "2024-12-03T21:22:29.536Z",
          "iopub.status.idle": "2024-12-03T21:22:29.559Z",
          "shell.execute_reply": "2024-12-03T21:22:29.294Z"
        },
        "nteract": {
          "transient": {
            "deleting": false
          }
        }
      }
    },
    {
      "cell_type": "code",
      "source": [
        "\n",
        "const datos = [\n",
        "    {\n",
        "        x: inversa_de_longitudes_de_onda, \n",
        "        y: voltajes_medidos, \n",
        "        name: 'Datos experimentales' \n",
        "    },\n",
        "    { \n",
        "        x: inversa_de_longitudes_de_onda, \n",
        "        y: voltajes_de_frenado_calculados, \n",
        "        name: 'Datos calculados tras ajuste' \n",
        "    }\n",
        "];\n",
        "const ecuacion = `y = ${m.toFixed(10)} x + ${b.toFixed(10)}`;\n",
        "const layout = {\n",
        "    title: 'Recta de Regresión Energía de arranque de electrónes \\u03D5, Blanco de Sodio',\n",
        "    xaxis: {\n",
        "        title: 'Numero de onda 1/\\u03BB , unidad 1/m',\n",
        "        titlefont: { family: 'Courier New, monospace', size: 12, color: '#7f7f7f' }\n",
        "    },\n",
        "    yaxis: {\n",
        "        title: 'Energía de frenado, unidad Voltios', \n",
        "        titlefont: { family: 'Courier New, monospace', size: 12, color: '#7f7f7f' }\n",
        "    },\n",
        "    annotations: [\n",
        "        {\n",
        "            xref: 'paper', // Referencia relativa al gráfico\n",
        "            yref: 'paper',\n",
        "            x: 0.9, // Posición X relativa\n",
        "            y: 0.9, // Posición Y relativa\n",
        "            text: ecuacion, // Ecuación de la recta\n",
        "            showarrow: false, // Sin flecha\n",
        "            font: {\n",
        "                family: 'Arial, monospace',\n",
        "                size: 14,\n",
        "                color: 'black'\n",
        "            },\n",
        "            align:'right'\n",
        "        }\n",
        "    ]\n",
        "};\n",
        "Plotly(datos, layout);"
      ],
      "outputs": [
        {
          "output_type": "execute_result",
          "execution_count": 7,
          "data": {
            "application/vnd.plotly.v1+json": {
              "data": [
                {
                  "x": [
                    6666666.666666666,
                    5714285.714285714,
                    4545454.545454545,
                    4166666.666666666,
                    3999999.9999999995,
                    3333333.333333333,
                    2941176.470588235,
                    2857142.857142857
                  ],
                  "y": [
                    -5.3,
                    -4.15,
                    -2.7,
                    -2.22,
                    -2.01,
                    -1.15,
                    -0.64,
                    -0.33
                  ],
                  "name": "Datos experimentales"
                },
                {
                  "x": [
                    6666666.666666666,
                    5714285.714285714,
                    4545454.545454545,
                    4166666.666666666,
                    3999999.9999999995,
                    3333333.333333333,
                    2941176.470588235,
                    2857142.857142857
                  ],
                  "y": [
                    -5.362336919312164,
                    -4.1462957593121645,
                    -2.653881608403074,
                    -2.1702288743121647,
                    -1.957421671312165,
                    -1.1061928593121646,
                    -0.6054700287239299,
                    -0.4981722793121648
                  ],
                  "name": "Datos calculados tras ajuste"
                }
              ],
              "layout": {
                "title": "Recta de Regresión Energía de arranque de electrónes ϕ, Blanco de Sodio",
                "xaxis": {
                  "title": "Numero de onda 1/λ , unidad 1/m",
                  "titlefont": {
                    "family": "Courier New, monospace",
                    "size": 12,
                    "color": "#7f7f7f"
                  }
                },
                "yaxis": {
                  "title": "Energía de frenado, unidad Voltios",
                  "titlefont": {
                    "family": "Courier New, monospace",
                    "size": 12,
                    "color": "#7f7f7f"
                  }
                },
                "annotations": [
                  {
                    "xref": "paper",
                    "yref": "paper",
                    "x": 0.9,
                    "y": 0.9,
                    "text": "y = -0.0000012768 x + 3.1499512007",
                    "showarrow": false,
                    "font": {
                      "family": "Arial, monospace",
                      "size": 14,
                      "color": "black"
                    },
                    "align": "right"
                  }
                ]
              }
            }
          },
          "metadata": {}
        }
      ],
      "execution_count": 7,
      "metadata": {
        "execution": {
          "iopub.execute_input": "2024-12-03T21:22:29.576Z",
          "iopub.status.busy": "2024-12-03T21:22:29.569Z",
          "iopub.status.idle": "2024-12-03T21:22:30.056Z",
          "shell.execute_reply": "2024-12-03T21:22:29.312Z"
        },
        "nteract": {
          "transient": {
            "deleting": false
          }
        },
        "scrolled": true
      }
    }
  ],
  "metadata": {
    "kernel_info": {
      "name": "node_nteract"
    },
    "kernelspec": {
      "argv": [
        "/tmp/.mount_nteracjwzOPa/nteract",
        "/tmp/.mount_nteracjwzOPa/resources/app.asar/node_modules/ijavascript/lib/kernel.js",
        "{connection_file}",
        "--protocol=5.0",
        "--hide-undefined"
      ],
      "display_name": "Node.js (nteract)",
      "env": {
        "ELECTRON_RUN_AS_NODE": "1",
        "NODE_PATH": "/tmp/.mount_nteracjwzOPa/resources/app.asar/node_modules"
      },
      "language": "javascript",
      "name": "node_nteract"
    },
    "language_info": {
      "name": "javascript",
      "version": "12.8.1",
      "mimetype": "application/javascript",
      "file_extension": ".js"
    },
    "nteract": {
      "version": "0.25.1"
    },
    "gist_id": "334628bd97f3150be60091a129661da1"
  },
  "nbformat": 4,
  "nbformat_minor": 4
}