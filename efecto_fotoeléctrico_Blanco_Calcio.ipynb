{
 "cells": [
  {
   "cell_type": "code",
   "execution_count": null,
   "metadata": {
    "execution": {
     "iopub.execute_input": "2024-12-03T14:20:10.739Z",
     "iopub.status.busy": "2024-12-03T14:20:10.731Z",
     "iopub.status.idle": "2024-12-03T14:20:10.748Z",
     "shell.execute_reply": "2024-12-03T14:20:10.663Z"
    },
    "nteract": {
     "transient": {
      "deleting": false
     }
    },
    "vscode": {
     "languageId": "javascript"
    }
   },
   "outputs": [],
   "source": [
    "var longitudes_de_onda_medidas = [150, 175, 220,240,250,300,340,350].map(x => x*1e-9);  // conversión de la longitud de onda a metros\n",
    "var voltajes_medidos = [-5.3,-4.15,-2.7,-2.22,-2.01,-1.15,-0.64,-0.33];  // en voltios (voltaje de frenado)para el sodio"
   ]
  },
  {
   "cell_type": "code",
   "execution_count": 2,
   "metadata": {
    "execution": {
     "iopub.execute_input": "2024-12-03T14:20:10.763Z",
     "iopub.status.busy": "2024-12-03T14:20:10.757Z",
     "iopub.status.idle": "2024-12-03T14:20:10.775Z",
     "shell.execute_reply": "2024-12-03T14:20:10.673Z"
    },
    "nteract": {
     "transient": {
      "deleting": false
     }
    },
    "vscode": {
     "languageId": "javascript"
    }
   },
   "outputs": [
    {
     "name": "stdout",
     "output_type": "stream",
     "text": [
      "[\n",
      "  [ 6666666.666666666, -5.3 ],\n",
      "  [ 5714285.714285714, -4.15 ],\n",
      "  [ 4545454.545454545, -2.7 ],\n",
      "  [ 4166666.666666666, -2.22 ],\n",
      "  [ 3999999.9999999995, -2.01 ],\n",
      "  [ 3333333.333333333, -1.15 ],\n",
      "  [ 2941176.470588235, -0.64 ],\n",
      "  [ 2857142.857142857, -0.33 ]\n",
      "]\n"
     ]
    }
   ],
   "source": [
    "inversa_de_longitudes_de_onda = longitudes_de_onda_medidas.map(lambda => 1/lambda );  \n",
    "var datos_a_ajustar = voltajes_medidos.reduce((tuplas_longitud_onda_voltaje, b, i) => {tuplas_longitud_onda_voltaje.push([inversa_de_longitudes_de_onda[i], b]);\n",
    "return tuplas_longitud_onda_voltaje;}, []);\n",
    "console.log(datos_a_ajustar); // Verás que son tuplas de valores 1/lambda y voltajes"
   ]
  },
  {
   "cell_type": "code",
   "execution_count": 3,
   "metadata": {
    "collapsed": true,
    "execution": {
     "iopub.execute_input": "2024-12-03T14:20:10.792Z",
     "iopub.status.busy": "2024-12-03T14:20:10.784Z",
     "iopub.status.idle": "2024-12-03T14:20:10.802Z",
     "shell.execute_reply": "2024-12-03T14:20:10.681Z"
    },
    "jupyter": {
     "outputs_hidden": true,
     "source_hidden": false
    },
    "nteract": {
     "transient": {
      "deleting": false
     }
    },
    "vscode": {
     "languageId": "javascript"
    }
   },
   "outputs": [
    {
     "name": "stdout",
     "output_type": "stream",
     "text": [
      "la pendiente es = -0.000001276843218 y la ordenada es = 3.149951200687835\n"
     ]
    }
   ],
   "source": [
    "var regression = require('./regression.js');\n",
    "var result = regression.linear(datos_a_ajustar, { precision: 15 });\n",
    "var m = result.equation[0];  // pendiente\n",
    "var b = result.equation[1];  // ordenada en origen\n",
    "console.log('la pendiente es = ' + m + ' y la ordenada es = ' + b);"
   ]
  },
  {
   "cell_type": "code",
   "execution_count": 4,
   "metadata": {
    "collapsed": true,
    "execution": {
     "iopub.execute_input": "2024-12-03T14:20:10.816Z",
     "iopub.status.busy": "2024-12-03T14:20:10.811Z",
     "iopub.status.idle": "2024-12-03T14:20:10.836Z",
     "shell.execute_reply": "2024-12-03T14:20:10.690Z"
    },
    "jupyter": {
     "outputs_hidden": true,
     "source_hidden": false
    },
    "nteract": {
     "transient": {
      "deleting": false
     }
    },
    "vscode": {
     "languageId": "javascript"
    }
   },
   "outputs": [
    {
     "name": "stdout",
     "output_type": "stream",
     "text": [
      "El valor cálculado de la constante de Planck reducida es: ℏ = 1.08604e-34  J·s\n",
      "El valor cálculado de la función de trabajo es: φ = 5.04678e-19 \n"
     ]
    }
   ],
   "source": [
    "if (typeof m === \"undefined\"){console.error(\"La variable m no está definida\");\n",
    "}else{\n",
    "    const e = -1.602176634e-19; //carga del electrón (Coulombios)\n",
    "    const c = 299792458; //velocidad de la luz en m/s\n",
    "    const pi = Math.PI;\n",
    "    const h_bar_simbolo =\"\\u210F\";\n",
    "    const h_bar=(m * e)/(2 * pi * c);\n",
    "    const phi_simbolo =\"\\u03C6\"\n",
    "    const phi=-b * e;\n",
    "  \n",
    "    console.log(`El valor cálculado de la constante de Planck reducida es: ${h_bar_simbolo} = ${h_bar.toExponential(5)}  J·s`);\n",
    "    console.log(`El valor cálculado de la función de trabajo es: ${phi_simbolo} = ${phi.toExponential(5)} `);\n",
    "}"
   ]
  },
  {
   "cell_type": "code",
   "execution_count": 1,
   "metadata": {
    "execution": {
     "iopub.execute_input": "2024-12-03T14:20:10.854Z",
     "iopub.status.busy": "2024-12-03T14:20:10.847Z",
     "iopub.status.idle": "2024-12-03T14:20:10.861Z",
     "shell.execute_reply": "2024-12-03T14:20:10.699Z"
    },
    "nteract": {
     "transient": {
      "deleting": false
     }
    },
    "vscode": {
     "languageId": "javascript"
    }
   },
   "outputs": [
    {
     "ename": "SyntaxError",
     "evalue": "invalid syntax (4122313450.py, line 1)",
     "output_type": "error",
     "traceback": [
      "\u001b[1;36m  Cell \u001b[1;32mIn[1], line 1\u001b[1;36m\u001b[0m\n\u001b[1;33m    function Plotly(data, layout, $$) {$$ = $$ || global.$$;$$.mime({ \"application/vnd.plotly.v1+json\": { data: data, layout: layout } });}\u001b[0m\n\u001b[1;37m             ^\u001b[0m\n\u001b[1;31mSyntaxError\u001b[0m\u001b[1;31m:\u001b[0m invalid syntax\n"
     ]
    }
   ],
   "source": [
    "function Plotly(data, layout, $$) {$$ = $$ || global.$$;$$.mime({ \"application/vnd.plotly.v1+json\": { data: data, layout: layout } });}"
   ]
  },
  {
   "cell_type": "code",
   "execution_count": 6,
   "metadata": {
    "execution": {
     "iopub.execute_input": "2024-12-03T14:20:10.881Z",
     "iopub.status.busy": "2024-12-03T14:20:10.873Z",
     "iopub.status.idle": "2024-12-03T14:20:10.892Z",
     "shell.execute_reply": "2024-12-03T14:20:10.710Z"
    },
    "nteract": {
     "transient": {
      "deleting": false
     }
    },
    "vscode": {
     "languageId": "javascript"
    }
   },
   "outputs": [
    {
     "data": {
      "text/plain": [
       "[\n",
       "  -5.362336919312164,\n",
       "  -4.1462957593121645,\n",
       "  -2.653881608403074,\n",
       "  -2.1702288743121647,\n",
       "  -1.957421671312165,\n",
       "  -1.1061928593121646,\n",
       "  -0.6054700287239299,\n",
       "  -0.4981722793121648\n",
       "]"
      ]
     },
     "execution_count": 6,
     "metadata": {},
     "output_type": "execute_result"
    }
   ],
   "source": [
    "voltajes_de_frenado_calculados = inversa_de_longitudes_de_onda.map(inversa_lambda => inversa_lambda * m + b);"
   ]
  },
  {
   "cell_type": "code",
   "execution_count": 7,
   "metadata": {
    "execution": {
     "iopub.execute_input": "2024-12-03T14:20:10.908Z",
     "iopub.status.busy": "2024-12-03T14:20:10.901Z",
     "iopub.status.idle": "2024-12-03T14:20:10.990Z",
     "shell.execute_reply": "2024-12-03T14:20:10.718Z"
    },
    "nteract": {
     "transient": {
      "deleting": false
     }
    },
    "vscode": {
     "languageId": "javascript"
    }
   },
   "outputs": [
    {
     "data": {
      "application/vnd.plotly.v1+json": {
       "data": [
        {
         "mode": "lines",
         "name": "Datos experimentales",
         "type": "scatter",
         "x": [
          6666666.666666666,
          5714285.714285714,
          4545454.545454545,
          4166666.666666666,
          3999999.9999999995,
          3333333.333333333,
          2941176.470588235,
          2857142.857142857
         ],
         "y": [
          -5.3,
          -4.15,
          -2.7,
          -2.22,
          -2.01,
          -1.15,
          -0.64,
          -0.33
         ]
        },
        {
         "mode": "lines",
         "name": "Datos calculados tras ajuste",
         "type": "scatter",
         "x": [
          6666666.666666666,
          5714285.714285714,
          4545454.545454545,
          4166666.666666666,
          3999999.9999999995,
          3333333.333333333,
          2941176.470588235,
          2857142.857142857
         ],
         "y": [
          -5.362336919312164,
          -4.1462957593121645,
          -2.653881608403074,
          -2.1702288743121647,
          -1.957421671312165,
          -1.1061928593121646,
          -0.6054700287239299,
          -0.4981722793121648
         ]
        }
       ],
       "layout": {
        "annotations": [
         {
          "font": {
           "color": "black",
           "family": "Arial, monospace",
           "size": 12
          },
          "showarrow": false,
          "text": " y = -0.000001276843218 x + 3.149951200687835",
          "x": 0.95,
          "xref": "paper",
          "y": 0.95,
          "yref": "paper"
         }
        ],
        "title": "Recta de Regresión Energía de arranque de electrónes ϕ Blanco de Calcio",
        "xaxis": {
         "title": "Numero de onda 1/λ , unidad 1/m",
         "titlefont": {
          "color": "#7f7f7f",
          "family": "Courier New, monospace",
          "size": 12
         }
        },
        "yaxis": {
         "title": "Energía de frenado en Voltios",
         "titlefont": {
          "color": "#7f7f7f",
          "family": "Courier New, monospace",
          "size": 12
         }
        }
       }
      }
     },
     "execution_count": 7,
     "metadata": {},
     "output_type": "execute_result"
    }
   ],
   "source": [
    "const datos = [\n",
    "    {\n",
    "        x: inversa_de_longitudes_de_onda, \n",
    "        y: voltajes_medidos, \n",
    "        name: 'Datos experimentales',\n",
    "        mode: 'lines',\n",
    "        type: 'scatter' \n",
    "    },\n",
    "    {\n",
    "        x: inversa_de_longitudes_de_onda,\n",
    "        y: voltajes_de_frenado_calculados,\n",
    "        name: 'Datos calculados tras ajuste',\n",
    "        mode: 'lines',\n",
    "        type: 'scatter'\n",
    "    }\n",
    "];\n",
    "const ecuacion = ` y = ${m.toFixed(15)} x + ${b.toFixed(15)}`;\n",
    "const layout = {\n",
    "  title: 'Recta de Regresión Energía de arranque de electrónes \\u03D5 Blanco de Calcio',\n",
    "  xaxis: {\n",
    "    title: 'Numero de onda 1/\\u03BB , unidad 1/m',\n",
    "    titlefont: { family: 'Courier New, monospace', size: 12, color: '#7f7f7f' }\n",
    "  },\n",
    "  yaxis: {\n",
    "    title: 'Energía de frenado en Voltios', \n",
    "    titlefont: {family: 'Courier New, monospace', size: 12, color: '#7f7f7f' }\n",
    "  },\n",
    "  annotations: [ \n",
    "        {\n",
    "            xref: 'paper', // Referencia al área del gráfico\n",
    "            yref: 'paper',\n",
    "            x: 0.95, // Posición en el lado derecho\n",
    "            y: 0.95,  // Centro vertical\n",
    "            text: ecuacion, // Texto completo de la ecuación\n",
    "            showarrow: false, // Sin flecha\n",
    "            font: {\n",
    "                family: 'Arial, monospace',\n",
    "                size : 12,\n",
    "                color: 'black'\n",
    "            },\n",
    "        }\n",
    "    ]\n",
    "};\n",
    "Plotly(datos, layout);"
   ]
  }
 ],
 "metadata": {
  "gist_id": "b9fb5b1ddd2f8df3c9779e02792df25d",
  "kernel_info": {
   "name": "node_nteract"
  },
  "kernelspec": {
   "display_name": "Python 3",
   "language": "python",
   "name": "python3"
  },
  "language_info": {
   "codemirror_mode": {
    "name": "ipython",
    "version": 3
   },
   "file_extension": ".py",
   "mimetype": "text/x-python",
   "name": "python",
   "nbconvert_exporter": "python",
   "pygments_lexer": "ipython3",
   "version": "3.12.6"
  },
  "nteract": {
   "version": "0.25.1"
  }
 },
 "nbformat": 4,
 "nbformat_minor": 4
}
