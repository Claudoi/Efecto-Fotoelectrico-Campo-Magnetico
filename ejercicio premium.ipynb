{
 "cells": [
  {
   "cell_type": "code",
   "execution_count": 1,
   "metadata": {
    "execution": {
     "iopub.execute_input": "2024-12-05T13:31:41.855Z",
     "iopub.status.busy": "2024-12-05T13:31:41.844Z",
     "iopub.status.idle": "2024-12-05T13:31:42.012Z",
     "shell.execute_reply": "2024-12-05T13:31:41.807Z"
    },
    "nteract": {
     "transient": {
      "deleting": false
     }
    }
   },
   "outputs": [
    {
     "data": {
      "application/vnd.plotly.v1+json": {
       "data": [
        {
         "line": {
          "color": "red"
         },
         "mode": "markers+lines",
         "name": "Experimento 1, Blanco de Sodio, voltaje inverso 0 V (Pend: 0.016729090909, Int: 0.001400000005)",
         "x": [
          10,
          20,
          30,
          40,
          50,
          60,
          70,
          80,
          90,
          100
         ],
         "y": [
          0.168,
          0.335,
          0.503,
          0.671,
          0.838,
          1.006,
          1.174,
          1.341,
          1.509,
          1.67
         ]
        },
        {
         "line": {
          "color": "blue"
         },
         "mode": "markers+lines",
         "name": "Experimento 2, Blanco de Sodio, voltaje inversp -1 V (Pend: 0.012467272727, Int: 0.000000000015)",
         "x": [
          10,
          20,
          30,
          40,
          50,
          60,
          70,
          80,
          90,
          100
         ],
         "y": [
          0.125,
          0.249,
          0.374,
          0.499,
          0.623,
          0.748,
          0.873,
          0.997,
          1.122,
          1.247
         ]
        },
        {
         "line": {
          "color": "green"
         },
         "mode": "markers+lines",
         "name": "Experimento 3, Blanco de Sodio, Voltaje inverso -2 V (Pend: 0.008167272727, Int: 0.000000000015)",
         "x": [
          10,
          20,
          30,
          40,
          50,
          60,
          70,
          80,
          90,
          100
         ],
         "y": [
          0.082,
          0.163,
          0.245,
          0.327,
          0.408,
          0.49,
          0.572,
          0.653,
          0.735,
          0.817
         ]
        },
        {
         "line": {
          "color": "purple"
         },
         "mode": "markers+lines",
         "name": "Experimento 4, Blanco de Sodio, Voltaje inverso -3 V (Pend: 0.003867272727, Int: 0.000000000015)",
         "x": [
          10,
          20,
          30,
          40,
          50,
          60,
          70,
          80,
          90,
          100
         ],
         "y": [
          0.039,
          0.077,
          0.116,
          0.155,
          0.193,
          0.232,
          0.271,
          0.309,
          0.348,
          0.387
         ]
        }
       ],
       "layout": {
        "showlegend": true,
        "title": "Efecto Fotoeléctrico: Rectas de Regresión, experimentos con 200 nm Longitud de onda",
        "xaxis": {
         "title": "Intensidad relativa (%) de la radiación incidente",
         "titlefont": {
          "color": "#7f7f7f",
          "family": "Courier New, monospace",
          "size": 14
         }
        },
        "yaxis": {
         "title": "Corriente (A)",
         "titlefont": {
          "color": "#7f7f7f",
          "family": "Courier New, monospace",
          "size": 14
         }
        }
       }
      }
     },
     "execution_count": 1,
     "metadata": {},
     "output_type": "execute_result"
    }
   ],
   "source": [
    "$$// Librería de regresión (instalar con `npm install regression`)\n",
    "const regression = require('regression');\n",
    "\n",
    "// Datos de los experimentos: 10 pares (x, y) para cada uno\n",
    "const datos_experimentos = [\n",
    "    {\n",
    "        name: 'Experimento 1, Blanco de Sodio, voltaje inverso 0 V',\n",
    "        datos: [\n",
    "            [10, 0.168], [20, 0.335], [30, 0.503], [40, 0.671], [50, 0.838],\n",
    "            [60, 1.006], [70, 1.174], [80, 1.341], [90, 1.509], [100, 1.67]\n",
    "        ]\n",
    "    },\n",
    "    {\n",
    "        name: 'Experimento 2, Blanco de Sodio, voltaje inversp -1 V',\n",
    "        datos: [\n",
    "            [10, 0.125], [20, 0.249], [30, 0.374], [40, 0.499], [50, 0.623],\n",
    "            [60, 0.748], [70, 0.873], [80, 0.997], [90, 1.122], [100, 1.247]\n",
    "        ]\n",
    "    },\n",
    "    {\n",
    "        name: 'Experimento 3, Blanco de Sodio, Voltaje inverso -2 V',\n",
    "        datos: [\n",
    "            [10, 0.082], [20, 0.163], [30, 0.245], [40, 0.327], [50, 0.408],\n",
    "            [60, 0.490], [70, 0.572], [80, 0.653], [90, 0.735], [100, 0.817]\n",
    "        ]\n",
    "    },\n",
    "    {\n",
    "        name: 'Experimento 4, Blanco de Sodio, Voltaje inverso -3 V',\n",
    "        datos: [\n",
    "            [10, 0.039], [20, 0.077], [30, 0.116], [40, 0.155], [50, 0.193],\n",
    "            [60, 0.232], [70, 0.271], [80, 0.309], [90, 0.348], [100, 0.387]\n",
    "        ]\n",
    "    }\n",
    "];\n",
    "\n",
    "// Calcular pendiente e intersección para cada experimento\n",
    "const resultados = datos_experimentos.map(exp => {\n",
    "    const resultado_regresion = regression.linear(exp.datos, { precision: 12 });\n",
    "    return {\n",
    "        name: exp.name,\n",
    "        pendiente: resultado_regresion.equation[0],\n",
    "        interseccion: resultado_regresion.equation[1],\n",
    "        color: exp.name === 'Experimento 1, Blanco de Sodio, voltaje inverso 0 V' ? 'red' : \n",
    "               exp.name === 'Experimento 2, Blanco de Sodio, voltaje inversp -1 V' ? 'blue' : \n",
    "               exp.name === 'Experimento 3, Blanco de Sodio, Voltaje inverso -2 V' ? 'green' : 'purple',\n",
    "        datos: exp.datos // Retener los datos originales para graficar\n",
    "    };\n",
    "});\n",
    "\n",
    "// Crear trazas para el gráfico\n",
    "const trazas = resultados.map(res => {\n",
    "const x = res.datos.map(par => par[0]); // Intensidades relativas\n",
    "const y = res.datos.map(par => par[1]); // Corrientes\n",
    "\n",
    "    return {\n",
    "        x: x,\n",
    "        y: y,\n",
    "        mode: 'markers+lines', // Puntos y líneas\n",
    "        name: `${res.name} (Pend: ${res.pendiente.toFixed(12)}, Int: ${res.interseccion.toFixed(12)})`,\n",
    "        line: { color: res.color }\n",
    "    };\n",
    "});\n",
    "\n",
    "// Configuración del layout\n",
    "const layout = {\n",
    "    title: 'Efecto Fotoeléctrico: Rectas de Regresión, experimentos con 200 nm Longitud de onda',\n",
    "    xaxis: {\n",
    "        title: 'Intensidad relativa (%) de la radiación incidente',\n",
    "        titlefont: { family: 'Courier New, monospace', size: 14, color: '#7f7f7f' }\n",
    "    },\n",
    "    yaxis: {\n",
    "        title: 'Corriente (A)',\n",
    "        titlefont: { family: 'Courier New, monospace', size: 14, color: '#7f7f7f' }\n",
    "    },\n",
    "    showlegend: true // Mostrar la leyenda\n",
    "};\n",
    "\n",
    "function Plotly(data, layout, $$) {\n",
    "    $$ = $$ || global.$$;\n",
    "    $$.mime({ \"application/vnd.plotly.v1+json\": { data: data, layout: layout } });\n",
    "}\n",
    "\n",
    "// Renderiza el gráfico en nteract\n",
    "Plotly(trazas, layout, $$);\n"
   ]
  }
 ],
 "metadata": {
  "kernel_info": {
   "name": "node_nteract"
  },
  "kernelspec": {
   "argv": [
    "/tmp/.mount_nterac9ANlyA/nteract",
    "/tmp/.mount_nterac9ANlyA/resources/app.asar/node_modules/ijavascript/lib/kernel.js",
    "{connection_file}",
    "--protocol=5.0",
    "--hide-undefined"
   ],
   "display_name": "Node.js (nteract)",
   "env": {
    "ELECTRON_RUN_AS_NODE": "1",
    "NODE_PATH": "/tmp/.mount_nterac9ANlyA/resources/app.asar/node_modules"
   },
   "language": "javascript",
   "name": "node_nteract"
  },
  "language_info": {
   "file_extension": ".js",
   "mimetype": "application/javascript",
   "name": "javascript",
   "version": "12.8.1"
  },
  "nteract": {
   "version": "0.25.1"
  }
 },
 "nbformat": 4,
 "nbformat_minor": 4
}
